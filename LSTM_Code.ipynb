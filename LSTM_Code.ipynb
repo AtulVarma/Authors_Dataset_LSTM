{
 "cells": [
  {
   "cell_type": "code",
   "execution_count": 14,
   "metadata": {},
   "outputs": [],
   "source": [
    "import pandas as pd\n",
    "import numpy as np\n",
    "from keras.layers import Dense, LSTM, SimpleRNN, Embedding\n",
    "from keras.models import Sequential\n",
    "from keras.utils.np_utils import to_categorical\n",
    "import os\n",
    "os.chdir(\"C:\\\\Users\\\\pc\\\\Desktop\\\\DataScience Batch 41\\\\cute 5\\\\20180707_Batch41_CSE 7321c_CUTe_PartC\")"
   ]
  },
  {
   "cell_type": "code",
   "execution_count": 16,
   "metadata": {},
   "outputs": [
    {
     "name": "stdout",
     "output_type": "stream",
     "text": [
      "(750, 2)\n",
      "Index(['Text', 'Author'], dtype='object')\n",
      "                                                  Text     Author\n",
      "0    I give Pirrip as my father's family name, on t...    Charles\n",
      "1    Ours was the marsh country, down by the river,...    Charles\n",
      "2    You bring me, to-morrow morning early, that fi...    Charles\n",
      "3    The marshes were just a long black horizontal ...    Charles\n",
      "4    My sister, Mrs. Joe, with black hair and eyes,...    Charles\n",
      "5    My sister had a trenchant way of cutting our b...    Charles\n",
      "6    The effort of resolution necessary to the achi...    Charles\n",
      "7    Some medical beast had revived Tar-water in th...    Charles\n",
      "8    Conscience is a dreadful thing when it accuses...    Charles\n",
      "9    As soon as the great black velvet pall outside...    Charles\n",
      "10   The mist was heavier yet when I got out upon t...    Charles\n",
      "11   All this time, I was getting on towards the ri...    Charles\n",
      "12   Why, see now! said he. When a man's alone on t...    Charles\n",
      "13   I indicated in what direction the mist had shr...    Charles\n",
      "14   So, we had our slices served out, as if we wer...    Charles\n",
      "15   My sister, having so much to do, was going to ...    Charles\n",
      "16   Joe and I going to church, therefore, must hav...    Charles\n",
      "17   The time came, without bringing with it any re...    Charles\n",
      "18   We dined on these occasions in the kitchen, an...    Charles\n",
      "19   Among this good company I should have felt mys...    Charles\n",
      "20   But I don't mean in that form, sir, returned M...    Charles\n",
      "21   Joe threw his eye over them, and pronounced th...    Charles\n",
      "22   As I watched them while they all stood cluster...    Charles\n",
      "23   We were joined by no stragglers from the villa...    Charles\n",
      "24   It was of no use asking myself this question n...    Charles\n",
      "25   With my heart thumping like a blacksmith at Jo...    Charles\n",
      "26   It was a run indeed now, and what Joe called, ...    Charles\n",
      "27   As one of the soldiers, who carried a basket i...    Charles\n",
      "28   The two were kept apart, and each walked surro...    Charles\n",
      "29   After an hour or so of this travelling, we cam...    Charles\n",
      "..                                                 ...        ...\n",
      "720  No, no, said he, it is not so bad as that. Fui...  Stevenson\n",
      "721  Thereupon I told him my story from the first, ...  Stevenson\n",
      "722  By this, I saw he must have heard the name all...  Stevenson\n",
      "723  Well, well, said the lawyer, when I had quite ...  Stevenson\n",
      "724  As he thus moralised on my adventures, he look...  Stevenson\n",
      "725  Ay, ay, said the lawyer, that is how it is wit...  Stevenson\n",
      "726  Why, no, sir, not at all, returned the lawyer....  Stevenson\n",
      "727  True, said Mr. Rankeillor. And yet I imagine i...  Stevenson\n",
      "728  The estate is yours beyond a doubt, replied th...  Stevenson\n",
      "729  Dear doctor! cries he, rubbing his brow. Dear ...  Stevenson\n",
      "730  But it was clear my plan had taken hold upon h...  Stevenson\n",
      "731  Why, so it would appear, says he, filling his ...  Stevenson\n",
      "732  Towards the time I had appointed with Alan, we...  Stevenson\n",
      "733  At that, of course, I understood the purpose o...  Stevenson\n",
      "734  As soon as we were past the Hawes (where I rec...  Stevenson\n",
      "735  And that is more than I could look for, Mr. Th...  Stevenson\n",
      "736  Night was quite come when we came in view of t...  Stevenson\n",
      "737  For some time Alan volleyed upon the door, and...  Stevenson\n",
      "738  This change of note disconcerted Ebenezer; he ...  Stevenson\n",
      "739  Why, says Alan, you that are a man of so much ...  Stevenson\n",
      "740  Come, come, Mr. Ebenezer, said the lawyer, you...  Stevenson\n",
      "741  By that time we had the fire lighted, and a bo...  Stevenson\n",
      "742  So the beggar in the ballad had come home; and...  Stevenson\n",
      "743  So far as I was concerned myself, I had come t...  Stevenson\n",
      "744  Mr. Thomson, says he, is one thing, Mr. Thomso...  Stevenson\n",
      "745  This, says he, is to my bankers, the British L...  Stevenson\n",
      "746  Thereupon he took his farewell, and set out wi...  Stevenson\n",
      "747  Alan and I went slowly forward upon our way, h...  Stevenson\n",
      "748  We came the by-way over the hill of Corstorphi...  Stevenson\n",
      "749  It was coming near noon when I passed in by th...  Stevenson\n",
      "\n",
      "[750 rows x 2 columns]\n"
     ]
    }
   ],
   "source": [
    "raw_data = pd.read_csv('AuthorsDataset.csv', encoding='latin-1')\n",
    "\n",
    "\n",
    "print(raw_data.shape)\n",
    "print(raw_data.columns)\n",
    "print(raw_data)"
   ]
  },
  {
   "cell_type": "code",
   "execution_count": 17,
   "metadata": {},
   "outputs": [
    {
     "name": "stdout",
     "output_type": "stream",
     "text": [
      "                                                  Text     Author\n",
      "322  From the conception of mechanical force as com...    HGWells\n",
      "331  There is nothing in machinery, there is nothin...    HGWells\n",
      "741  By that time we had the fire lighted, and a bo...  Stevenson\n",
      "545  It was a blessed thing indeed to open my eyes ...  Stevenson\n",
      "47   Saving for the one weird smile at first, I sho...    Charles\n",
      "310  In Utopia there is no distinct and separate sc...    HGWells\n",
      "421  But these, of course, are generalisations. The...    HGWells\n",
      "96   As I never assisted at any other representatio...    Charles\n",
      "102  Now, as to Orlick; he had gone to town exactly...    Charles\n",
      "546  Here I lay for the space of many days a close ...  Stevenson\n",
      "679  This was but one of Cluny's hiding-places; he ...  Stevenson\n",
      "578  Ah! says he, falling again to smiling, I got m...  Stevenson\n",
      "683  I do not know if the collops were truly very g...  Stevenson\n",
      "126  I selected the materials for a suit, with the ...    Charles\n",
      "265  The language of Utopia will no doubt be one an...    HGWells\n",
      "535  The town of Queensferry lies farther west, and...  Stevenson\n",
      "471  Certain great areas are set apart for these ye...    HGWells\n",
      "294  My mind flows with the free, thin flow that it...    HGWells\n",
      "342  Oh, nonsense! he said abruptly. You can't d...    HGWells\n",
      "454  I follow the Common Rule, as many men do, sa...    HGWells\n",
      "728  The estate is yours beyond a doubt, replied th...  Stevenson\n",
      "703  Duncan Dhu made haste to bring out the pair of...  Stevenson\n",
      "629  In the meanwhile, those still on the brig had ...  Stevenson\n",
      "379  But it is a conceivable and possible thing tha...    HGWells\n",
      "373  I should tell him the thing that was becoming ...    HGWells\n",
      "277  This is particularly in evidence in this prese...    HGWells\n",
      "154  At the same time this nurse picked up Mrs. Poc...    Charles\n",
      "513  Hoot-toot! said Uncle Ebenezer, dinnae fly up ...  Stevenson\n",
      "399  A great deal of nonsense is talked about the n...    HGWells\n",
      "555  The round-house, for which I was bound, and wh...  Stevenson\n",
      "..                                                 ...        ...\n",
      "598  A little after, as I was jumping about after m...  Stevenson\n",
      "479  The Utopians have brought a sounder physiologi...    HGWells\n",
      "512  As soon as the last chain was up, the man rejo...  Stevenson\n",
      "692  We set forth accordingly by this itinerary; an...  Stevenson\n",
      "281  Freedom of movement in a Utopia planned under ...    HGWells\n",
      "43   For such reasons, I was very glad when ten o'c...    Charles\n",
      "524  This was the grand stair! I thought; and with ...  Stevenson\n",
      "314  Biologically the species is the accumulation o...    HGWells\n",
      "4    My sister, Mrs. Joe, with black hair and eyes,...    Charles\n",
      "732  Towards the time I had appointed with Alan, we...  Stevenson\n",
      "76   When I got home at night, and delivered this m...    Charles\n",
      "694  The sound of an infinite number of rivers came...  Stevenson\n",
      "160  By degrees I learnt, and chiefly from Herbert,...    Charles\n",
      "615  This I found to be another catechist, but of a...  Stevenson\n",
      "508  Presently after, I came by a house where a she...  Stevenson\n",
      "145  There was an air of toleration or depreciation...    Charles\n",
      "263  All through this Utopian excursion, I must war...    HGWells\n",
      "693  This was a dreadful time, rendered the more dr...  Stevenson\n",
      "85   For, though it includes what I proceed to add,...    Charles\n",
      "609  He became at once very polite, and after tryin...  Stevenson\n",
      "588  I was on my feet in a minute. The reef on whic...  Stevenson\n",
      "261  Now you as a botanist would, I suppose, inclin...    HGWells\n",
      "291  They were boy and girl together, and afterward...    HGWells\n",
      "30   The something that I had noticed before, click...    Charles\n",
      "252  There is to be no inquiry here of policy and m...    HGWells\n",
      "333  Presently we recognise the fellow of the earth...    HGWells\n",
      "416  It is high summer, and our shed lies open at e...    HGWells\n",
      "633  While this was going on I looked about me at t...  Stevenson\n",
      "309  The difference between the social and economic...    HGWells\n",
      "689  The thought of a separation ran always the str...  Stevenson\n",
      "\n",
      "[750 rows x 2 columns]\n"
     ]
    }
   ],
   "source": [
    "from sklearn.utils import shuffle\n",
    "\n",
    "data= shuffle(raw_data)\n",
    "\n",
    "print(data)"
   ]
  },
  {
   "cell_type": "code",
   "execution_count": 18,
   "metadata": {},
   "outputs": [],
   "source": [
    "from sklearn.model_selection import train_test_split"
   ]
  },
  {
   "cell_type": "code",
   "execution_count": 21,
   "metadata": {
    "scrolled": true
   },
   "outputs": [
    {
     "name": "stdout",
     "output_type": "stream",
     "text": [
      "(600, 2)\n",
      "(150, 2)\n"
     ]
    }
   ],
   "source": [
    "train,test = train_test_split(data, test_size = 0.2) \n",
    "print(train.shape)\n",
    "print(test.shape)"
   ]
  },
  {
   "cell_type": "code",
   "execution_count": 22,
   "metadata": {},
   "outputs": [
    {
     "data": {
      "text/plain": [
       "Index(['Text', 'Author'], dtype='object')"
      ]
     },
     "execution_count": 22,
     "metadata": {},
     "output_type": "execute_result"
    }
   ],
   "source": [
    "train.columns"
   ]
  },
  {
   "cell_type": "code",
   "execution_count": 26,
   "metadata": {},
   "outputs": [
    {
     "data": {
      "text/plain": [
       "((600, 100), (150, 100))"
      ]
     },
     "execution_count": 26,
     "metadata": {},
     "output_type": "execute_result"
    }
   ],
   "source": [
    "from keras.preprocessing.text import Tokenizer\n",
    "from keras.preprocessing.sequence import pad_sequences\n",
    "\n",
    "tokenizer = Tokenizer(num_words=10000)\n",
    "tokenizer.fit_on_texts(train.Text)\n",
    "\n",
    "train_x = tokenizer.texts_to_sequences(train.Text)\n",
    "train_x = pad_sequences(train_x, maxlen=100)\n",
    "test_x = tokenizer.texts_to_sequences(test.Text)\n",
    "test_x = pad_sequences(test_x, maxlen=100)\n",
    "\n",
    "train_x.shape, test_x.shape"
   ]
  },
  {
   "cell_type": "code",
   "execution_count": 27,
   "metadata": {
    "scrolled": false
   },
   "outputs": [
    {
     "name": "stdout",
     "output_type": "stream",
     "text": [
      "[[  28 2847 1880 ...   38  836 1233]\n",
      " [  13   17  777 ...    5  310   41]\n",
      " [   1  839    1 ...  686    2  379]\n",
      " ...\n",
      " [  24    6  926 ...   35  677   37]\n",
      " [   8 1362    7 ...   22    8 2198]\n",
      " [ 551  104    8 ...   68   25 1553]]\n"
     ]
    }
   ],
   "source": [
    "print(train_x)"
   ]
  },
  {
   "cell_type": "code",
   "execution_count": 38,
   "metadata": {},
   "outputs": [],
   "source": [
    "model = Sequential()\n",
    "model.add(Embedding(input_dim=len(tokenizer.word_index), input_length=100, output_dim=100))\n",
    "model.add(LSTM(10, return_sequences=False))\n",
    "model.add(Dense(3, activation='softmax'))"
   ]
  },
  {
   "cell_type": "code",
   "execution_count": 39,
   "metadata": {
    "scrolled": true
   },
   "outputs": [],
   "source": [
    "unique_labels = list(data.Author.unique())\n",
    "train_y = np.array([unique_labels.index(i) for i in train.Author])\n",
    "train_y = to_categorical(train_y)\n",
    "test_y_ = np.array([unique_labels.index(i) for i in test.Author])\n",
    "test_y = to_categorical(test_y_)\n"
   ]
  },
  {
   "cell_type": "code",
   "execution_count": 40,
   "metadata": {
    "scrolled": true
   },
   "outputs": [
    {
     "name": "stdout",
     "output_type": "stream",
     "text": [
      "(600, 3)\n",
      "(150, 3)\n",
      "(600, 100)\n",
      "(150, 100)\n"
     ]
    }
   ],
   "source": [
    "print(train_y.shape)\n",
    "print(test_y.shape)\n",
    "print(train_x.shape)\n",
    "print(test_x.shape)"
   ]
  },
  {
   "cell_type": "code",
   "execution_count": 42,
   "metadata": {
    "scrolled": true
   },
   "outputs": [
    {
     "name": "stdout",
     "output_type": "stream",
     "text": [
      "Train on 450 samples, validate on 150 samples\n",
      "Epoch 1/20\n",
      "450/450 [==============================] - 3s 6ms/step - loss: 1.0150 - acc: 0.8733 - val_loss: 1.0479 - val_acc: 0.6067\n",
      "Epoch 2/20\n",
      "450/450 [==============================] - 1s 2ms/step - loss: 0.9303 - acc: 0.9356 - val_loss: 1.0049 - val_acc: 0.6333\n",
      "Epoch 3/20\n",
      "450/450 [==============================] - 1s 3ms/step - loss: 0.7985 - acc: 0.9289 - val_loss: 0.9261 - val_acc: 0.6400\n",
      "Epoch 4/20\n",
      "450/450 [==============================] - 1s 2ms/step - loss: 0.6202 - acc: 0.9267 - val_loss: 0.8192 - val_acc: 0.7200\n",
      "Epoch 5/20\n",
      "450/450 [==============================] - 1s 2ms/step - loss: 0.4311 - acc: 0.9822 - val_loss: 0.6800 - val_acc: 0.7733\n",
      "Epoch 6/20\n",
      "450/450 [==============================] - 1s 2ms/step - loss: 0.2738 - acc: 0.9978 - val_loss: 0.5524 - val_acc: 0.8200\n",
      "Epoch 7/20\n",
      "450/450 [==============================] - 1s 2ms/step - loss: 0.1699 - acc: 0.9978 - val_loss: 0.5465 - val_acc: 0.8000\n",
      "Epoch 8/20\n",
      "450/450 [==============================] - 1s 2ms/step - loss: 0.1176 - acc: 0.9978 - val_loss: 0.5071 - val_acc: 0.8333\n",
      "Epoch 9/20\n",
      "450/450 [==============================] - 1s 2ms/step - loss: 0.0950 - acc: 0.9956 - val_loss: 0.5623 - val_acc: 0.8000\n",
      "Epoch 10/20\n",
      "450/450 [==============================] - 1s 2ms/step - loss: 0.0809 - acc: 0.9978 - val_loss: 0.4879 - val_acc: 0.8333\n",
      "Epoch 11/20\n",
      "450/450 [==============================] - 1s 2ms/step - loss: 0.0639 - acc: 1.0000 - val_loss: 0.4946 - val_acc: 0.8267\n",
      "Epoch 12/20\n",
      "450/450 [==============================] - 1s 3ms/step - loss: 0.0548 - acc: 1.0000 - val_loss: 0.5513 - val_acc: 0.8200\n",
      "Epoch 13/20\n",
      "450/450 [==============================] - 1s 3ms/step - loss: 0.0457 - acc: 1.0000 - val_loss: 0.6282 - val_acc: 0.8067\n",
      "Epoch 14/20\n",
      "450/450 [==============================] - 1s 3ms/step - loss: 0.0652 - acc: 0.9911 - val_loss: 0.6760 - val_acc: 0.7800\n",
      "Epoch 15/20\n",
      "450/450 [==============================] - 1s 3ms/step - loss: 0.0477 - acc: 0.9956 - val_loss: 0.4716 - val_acc: 0.8267\n",
      "Epoch 16/20\n",
      "450/450 [==============================] - 1s 3ms/step - loss: 0.0457 - acc: 0.9956 - val_loss: 0.5229 - val_acc: 0.8067\n",
      "Epoch 17/20\n",
      "450/450 [==============================] - 1s 3ms/step - loss: 0.0376 - acc: 1.0000 - val_loss: 0.4697 - val_acc: 0.8267\n",
      "Epoch 18/20\n",
      "450/450 [==============================] - 1s 3ms/step - loss: 0.0330 - acc: 1.0000 - val_loss: 0.4719 - val_acc: 0.8200\n",
      "Epoch 19/20\n",
      "450/450 [==============================] - 1s 3ms/step - loss: 0.0292 - acc: 1.0000 - val_loss: 0.4910 - val_acc: 0.8200\n",
      "Epoch 20/20\n",
      "450/450 [==============================] - 1s 3ms/step - loss: 0.0261 - acc: 1.0000 - val_loss: 0.5023 - val_acc: 0.8267\n"
     ]
    },
    {
     "data": {
      "text/plain": [
       "<keras.callbacks.History at 0x16c7a7d80b8>"
      ]
     },
     "execution_count": 42,
     "metadata": {},
     "output_type": "execute_result"
    }
   ],
   "source": [
    "model.compile(optimizer='adam', loss='categorical_crossentropy', metrics=['accuracy'])\n",
    "model.fit(train_x, train_y, epochs=20, validation_split=0.25)"
   ]
  },
  {
   "cell_type": "code",
   "execution_count": 44,
   "metadata": {
    "scrolled": true
   },
   "outputs": [
    {
     "name": "stdout",
     "output_type": "stream",
     "text": [
      "\n"
     ]
    }
   ],
   "source": [
    "y_pred= model.predict_classes(test_x)\n",
    "print()\n"
   ]
  },
  {
   "cell_type": "code",
   "execution_count": 45,
   "metadata": {},
   "outputs": [
    {
     "data": {
      "text/plain": [
       "0.8066666666666666"
      ]
     },
     "execution_count": 45,
     "metadata": {},
     "output_type": "execute_result"
    }
   ],
   "source": [
    "from sklearn import metrics\n",
    "#metrics.accuracy_score(y_true=raw_test_data.Label,y_pred=y_pred)\n",
    "metrics.accuracy_score(y_true=test_y_ ,y_pred=y_pred)"
   ]
  }
 ],
 "metadata": {
  "kernelspec": {
   "display_name": "Python 3",
   "language": "python",
   "name": "python3"
  },
  "language_info": {
   "codemirror_mode": {
    "name": "ipython",
    "version": 3
   },
   "file_extension": ".py",
   "mimetype": "text/x-python",
   "name": "python",
   "nbconvert_exporter": "python",
   "pygments_lexer": "ipython3",
   "version": "3.6.4"
  }
 },
 "nbformat": 4,
 "nbformat_minor": 2
}
